{
 "cells": [
  {
   "cell_type": "code",
   "execution_count": 3,
   "id": "c0c987ec-0371-4da5-b22d-d9b6dd0e3010",
   "metadata": {
    "tags": []
   },
   "outputs": [],
   "source": [
    "from qiskit_ibm_runtime import QiskitRuntimeService\n",
    "\n",
    "lcl_token = \"645380a31f6205f22ba863c090ee90aab9c3f55816a93e30775a53ced334f40e7f6b086b0def9155900edb2ff7f6184ed8035ab18bff8389c2cbe8fa34c8a705\"\n",
    "\n",
    "service = QiskitRuntimeService(\n",
    "    channel=\"ibm_quantum\", instance=\"ibm-q/open/main\", token=lcl_token\n",
    ")"
   ]
  },
  {
   "cell_type": "code",
   "execution_count": 4,
   "id": "a44c9c31-fdd8-4427-9960-fdd50b5fe98b",
   "metadata": {
    "tags": []
   },
   "outputs": [
    {
     "data": {
      "text/plain": [
       "[<IBMBackend('simulator_extended_stabilizer')>,\n",
       " <IBMBackend('simulator_mps')>,\n",
       " <IBMBackend('simulator_statevector')>,\n",
       " <IBMBackend('simulator_stabilizer')>,\n",
       " <IBMBackend('ibm_brisbane')>,\n",
       " <IBMBackend('ibm_kyoto')>,\n",
       " <IBMBackend('ibm_osaka')>,\n",
       " <IBMBackend('ibmq_qasm_simulator')>]"
      ]
     },
     "execution_count": 4,
     "metadata": {},
     "output_type": "execute_result"
    }
   ],
   "source": [
    "service.backends()"
   ]
  },
  {
   "cell_type": "code",
   "execution_count": 5,
   "id": "f3773874-2f51-4acc-b97c-3793cbba541f",
   "metadata": {
    "tags": []
   },
   "outputs": [],
   "source": [
    "backend_sim = service.backend(\"ibmq_qasm_simulator\")"
   ]
  },
  {
   "cell_type": "code",
   "execution_count": 6,
   "id": "39d15600-5fd1-482a-b281-6a936b6be4b2",
   "metadata": {
    "tags": []
   },
   "outputs": [
    {
     "data": {
      "text/plain": [
       "<IBMBackend('ibm_kyoto')>"
      ]
     },
     "execution_count": 6,
     "metadata": {},
     "output_type": "execute_result"
    }
   ],
   "source": [
    "backend = service.least_busy(simulator=False, operational=True)\n",
    "backend"
   ]
  },
  {
   "cell_type": "code",
   "execution_count": null,
   "id": "7f45a9c9-e7ea-4724-a945-f65180c88096",
   "metadata": {
    "tags": []
   },
   "outputs": [],
   "source": [
    "from qiskit.circuit.random import random_circuit\n",
    "\n",
    "circ = random_circuit(5, 3, measure=True)\n",
    "circ.draw(output=\"mpl\", style=\"iqp\")"
   ]
  },
  {
   "cell_type": "code",
   "execution_count": null,
   "id": "a6a03d78-fcff-4788-b647-c1829e359c77",
   "metadata": {
    "tags": []
   },
   "outputs": [],
   "source": [
    "from qiskit_ibm_runtime import Sampler, Options\n",
    "\n",
    "options = Options()\n",
    "options.resilience_level = 1\n",
    "options.optimization_level = 3\n",
    "\n",
    "# Create an Estimator object\n",
    "sampler = Sampler(backend, options=options)\n",
    "\n",
    "# Submit the circuit to Estimator\n",
    "job = sampler.run(circ, shots=1)"
   ]
  },
  {
   "cell_type": "code",
   "execution_count": null,
   "id": "075ed36b-e5e3-4473-bed4-c28a0cc86057",
   "metadata": {
    "tags": []
   },
   "outputs": [],
   "source": [
    "jobid = job.job_id()\n",
    "print(f\">>> Job ID: {job.job_id()}\")\n",
    "print(f\">>> Job Status: {job.status()}\")"
   ]
  },
  {
   "cell_type": "code",
   "execution_count": null,
   "id": "8c26cbc3-58d9-4345-9175-5bfea7477871",
   "metadata": {
    "tags": []
   },
   "outputs": [],
   "source": [
    "retrieve_job = service.job(jobid)\n",
    "result = retrieve_job.result()"
   ]
  },
  {
   "cell_type": "code",
   "execution_count": null,
   "id": "9f7e479d-84ac-4c49-bab2-6873053d2283",
   "metadata": {
    "tags": []
   },
   "outputs": [],
   "source": [
    "from qiskit.visualization import plot_distribution\n",
    "\n",
    "plot_distribution(result.quasi_dists[0].binary_probabilities())"
   ]
  },
  {
   "cell_type": "code",
   "execution_count": null,
   "id": "24ba049e-64eb-4848-a2d3-3e8152e088a3",
   "metadata": {},
   "outputs": [],
   "source": []
  }
 ],
 "metadata": {
  "kernelspec": {
   "display_name": "qiskit_env",
   "language": "python",
   "name": "python3"
  },
  "language_info": {
   "codemirror_mode": {
    "name": "ipython",
    "version": 3
   },
   "file_extension": ".py",
   "mimetype": "text/x-python",
   "name": "python",
   "nbconvert_exporter": "python",
   "pygments_lexer": "ipython3",
   "version": "3.10.9"
  }
 },
 "nbformat": 4,
 "nbformat_minor": 5
}
