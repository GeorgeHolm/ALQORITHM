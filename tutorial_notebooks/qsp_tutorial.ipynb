{
 "cells": [
  {
   "cell_type": "markdown",
   "id": "c48e571a",
   "metadata": {},
   "source": [
    "# Quantum Signal Processing\n",
    "### The building blocks of quantum algorithms"
   ]
  },
  {
   "cell_type": "markdown",
   "id": "5ba36878",
   "metadata": {},
   "source": [
    "### Welcome!  \n",
    "\n",
    "In this notebook, we will walk you through how to design your own *quantum signal processing* protocol. We start by importing the necessary packages.\n"
   ]
  },
  {
   "cell_type": "code",
   "execution_count": 19,
   "id": "c0c987ec-0371-4da5-b22d-d9b6dd0e3010",
   "metadata": {
    "tags": []
   },
   "outputs": [],
   "source": [
    "from qiskit_ibm_runtime import QiskitRuntimeService\n",
    "\n",
    "lcl_token = \"INPUT TOKEN\"\n",
    "\n",
    "service = QiskitRuntimeService(\n",
    "    channel=\"ibm_quantum\", instance=\"ibm-q/open/main\", token=lcl_token\n",
    ")"
   ]
  },
  {
   "cell_type": "code",
   "execution_count": 133,
   "id": "e9707358-8bd9-4a47-9cf1-6510ee978812",
   "metadata": {
    "tags": []
   },
   "outputs": [],
   "source": [
    "import json"
   ]
  },
  {
   "cell_type": "markdown",
   "id": "b2274cf6",
   "metadata": {},
   "source": [
    "We can now list out all the backends that are available on the IBM processor."
   ]
  },
  {
   "cell_type": "code",
   "execution_count": 20,
   "id": "a44c9c31-fdd8-4427-9960-fdd50b5fe98b",
   "metadata": {
    "tags": []
   },
   "outputs": [
    {
     "data": {
      "text/plain": [
       "[<IBMBackend('simulator_mps')>,\n",
       " <IBMBackend('simulator_statevector')>,\n",
       " <IBMBackend('simulator_stabilizer')>,\n",
       " <IBMBackend('ibm_brisbane')>,\n",
       " <IBMBackend('ibm_kyoto')>,\n",
       " <IBMBackend('ibm_osaka')>,\n",
       " <IBMBackend('ibmq_qasm_simulator')>,\n",
       " <IBMBackend('simulator_extended_stabilizer')>]"
      ]
     },
     "execution_count": 20,
     "metadata": {},
     "output_type": "execute_result"
    }
   ],
   "source": [
    "service.backends()"
   ]
  },
  {
   "cell_type": "markdown",
   "id": "e6647c65",
   "metadata": {},
   "source": [
    "For this project, we are using both a simulator and an actual backend, but you can replace this with any simulator or quantum computer of your choice."
   ]
  },
  {
   "cell_type": "code",
   "execution_count": 21,
   "id": "f3773874-2f51-4acc-b97c-3793cbba541f",
   "metadata": {
    "tags": []
   },
   "outputs": [],
   "source": [
    "backend_sim = service.backend(\"ibmq_qasm_simulator\")"
   ]
  },
  {
   "cell_type": "code",
   "execution_count": 141,
   "id": "39d15600-5fd1-482a-b281-6a936b6be4b2",
   "metadata": {
    "tags": []
   },
   "outputs": [
    {
     "data": {
      "text/plain": [
       "<IBMBackend('ibm_kyoto')>"
      ]
     },
     "execution_count": 141,
     "metadata": {},
     "output_type": "execute_result"
    }
   ],
   "source": [
    "backend = service.least_busy(simulator=False, operational=True)\n",
    "backend"
   ]
  },
  {
   "cell_type": "markdown",
   "id": "dd4bdb5f",
   "metadata": {},
   "source": [
    "Let's start with our circuit! Important steps will be included as comments throughout the code. We will be walking you through how to use PSQ to better approximate a sine function, but this procedure can be used to generate a polynomial approximation of anything that you'd like. \n",
    "\n",
    "Importantly, the key to PSQ working is the sequence of phase angles $\\vec{\\phi}$. The procedure for generating these angles is computationally complex—and involves Remez-type exchange algorithms—but there are excellent python packages to determine these for us. \n",
    "\n",
    "We used the following code to generate sequences:\n",
    "```\n",
    "pysqsp --plot-real-only --plot-npts={n} --seqargs=[4,0.1] --plot hamsim\n",
    "```\n",
    "\n",
    "where {n} is determined by the user. Note that higher values of n will perform better classically and worse on a quantum computer, so perhaps there is a method to determine the equilibrium value...\n"
   ]
  },
  {
   "cell_type": "code",
   "execution_count": 82,
   "id": "7f45a9c9-e7ea-4724-a945-f65180c88096",
   "metadata": {
    "tags": []
   },
   "outputs": [
    {
     "data": {
      "image/png": "[encoded data removed]",
      "text/plain": [
       "<Figure size 1690.45x200.667 with 1 Axes>"
      ]
     },
     "execution_count": 82,
     "metadata": {},
     "output_type": "execute_result"
    }
   ],
   "source": [
    "from qiskit import QuantumCircuit\n",
    "import numpy as np\n",
    "\n",
    "qc = QuantumCircuit(1,1)\n",
    "\n",
    "# 2x\n",
    "\n",
    "phi_3 = [0.3434281, 2.249998, 2.2590873, 1.9060472] ## our arbitrary phase tuple, generated as described above\n",
    "phi_3.reverse()\n",
    "\n",
    "a = 0.2\n",
    "\n",
    "qc.h(0)\n",
    "\n",
    "qc.barrier(0)\n",
    "\n",
    "# Applies the equation described on the website in Qiskit\n",
    "for i in range(len(phi_3)):\n",
    "    if(i != 0):\n",
    "        qc.rx(-2*np.arccos(a),0)\n",
    "        qc.barrier(0)\n",
    "    qc.rz(-2*phi_3[i], 0)\n",
    "    qc.barrier(0)\n",
    "\n",
    "qc.h(0)\n",
    "\n",
    "qc.barrier(0)\n",
    "\n",
    "# Measures all the qubits\n",
    "qc.measure([0], [0])\n",
    "\n",
    "qc.draw(output=\"mpl\", style=\"iqp\")"
   ]
  },
  {
   "cell_type": "markdown",
   "id": "cf267b48",
   "metadata": {},
   "source": [
    "With this accomplished, we can now submit our jobs to the quantum computer."
   ]
  },
  {
   "cell_type": "code",
   "execution_count": 83,
   "id": "a6a03d78-fcff-4788-b647-c1829e359c77",
   "metadata": {
    "tags": []
   },
   "outputs": [],
   "source": [
    "from qiskit_ibm_runtime import Sampler, Options\n",
    "\n",
    "options = Options()\n",
    "options.resilience_level = 1\n",
    "options.optimization_level = 3\n",
    "\n",
    "# Create an Estimator object\n",
    "sampler = Sampler(backend_sim, options=options)\n",
    "\n",
    "# Submit the circuit to Estimator\n",
    "job = sampler.run(qc, shots=1000)"
   ]
  },
  {
   "cell_type": "code",
   "execution_count": 85,
   "id": "075ed36b-e5e3-4473-bed4-c28a0cc86057",
   "metadata": {
    "tags": []
   },
   "outputs": [
    {
     "name": "stdout",
     "output_type": "stream",
     "text": [
      ">>> Job ID: cmverc779cpiv1dslse0\n",
      ">>> Job Status: JobStatus.DONE\n"
     ]
    }
   ],
   "source": [
    "jobid = job.job_id()\n",
    "print(f\">>> Job ID: {job.job_id()}\")\n",
    "print(f\">>> Job Status: {job.status()}\")"
   ]
  },
  {
   "cell_type": "markdown",
   "id": "9a6522ba",
   "metadata": {},
   "source": [
    "Let's retrieve our job and see what it looks like!"
   ]
  },
  {
   "cell_type": "code",
   "execution_count": 86,
   "id": "8c26cbc3-58d9-4345-9175-5bfea7477871",
   "metadata": {
    "tags": []
   },
   "outputs": [],
   "source": [
    "retrieve_job = service.job(jobid)\n",
    "result = retrieve_job.result()"
   ]
  },
  {
   "cell_type": "code",
   "execution_count": 88,
   "id": "9f7e479d-84ac-4c49-bab2-6873053d2283",
   "metadata": {
    "tags": []
   },
   "outputs": [
    {
     "name": "stdout",
     "output_type": "stream",
     "text": [
      "SamplerResult(quasi_dists=[{0: 0.133, 1: 0.867}], metadata=[{'shots': 1000, 'circuit_metadata': {}, 'readout_mitigation_overhead': 1.0, 'readout_mitigation_time': 0.016960766166448593, 'warning': 'Optimization level clipped from 3 to 1'}])\n"
     ]
    }
   ],
   "source": [
    "from qiskit.visualization import plot_distribution\n",
    "\n",
    "plot_distribution(result.quasi_dists[0].binary_probabilities())\n",
    "print(result)"
   ]
  },
  {
   "cell_type": "code",
   "execution_count": 93,
   "id": "24ba049e-64eb-4848-a2d3-3e8152e088a3",
   "metadata": {},
   "outputs": [
    {
     "name": "stdout",
     "output_type": "stream",
     "text": [
      "0.133\n"
     ]
    }
   ],
   "source": [
    "print(result.quasi_dists[0][0])"
   ]
  },
  {
   "cell_type": "markdown",
   "id": "8b8c0f07",
   "metadata": {},
   "source": [
    "Let us now combine all of our work so far and define some functions to increase modularity."
   ]
  },
  {
   "cell_type": "code",
   "execution_count": 135,
   "id": "a1b9ea7a-809d-477e-b11e-98142a63d1dc",
   "metadata": {
    "tags": []
   },
   "outputs": [
    {
     "name": "stdout",
     "output_type": "stream",
     "text": [
      "-1.0\n",
      "-0.9\n",
      "-0.8\n",
      "-0.7\n",
      "-0.6\n",
      "-0.5\n",
      "-0.3999999999999999\n",
      "-0.29999999999999993\n",
      "-0.19999999999999996\n",
      "-0.09999999999999998\n",
      "0.0\n",
      "0.10000000000000009\n",
      "0.20000000000000018\n",
      "0.30000000000000004\n",
      "0.40000000000000013\n",
      "0.5\n",
      "0.6000000000000001\n",
      "0.7000000000000002\n",
      "0.8\n",
      "0.9000000000000001\n",
      "1.0\n"
     ]
    }
   ],
   "source": [
    "def gen_qc(a):\n",
    "    qc = QuantumCircuit(1,1)\n",
    "\n",
    "    # 2x\n",
    "\n",
    "    phi_3 = [0.3434281, 2.249998, 2.2590873, 1.9060472]\n",
    "    phi_3.reverse()\n",
    "\n",
    "    qc.h(0)\n",
    "\n",
    "    qc.barrier(0)\n",
    "\n",
    "    for i in range(len(phi_3)):\n",
    "        if(i != 0):\n",
    "            qc.rx(-2*np.arccos(a),0)\n",
    "            qc.barrier(0)\n",
    "        qc.rz(-2*phi_3[i], 0)\n",
    "        qc.barrier(0)\n",
    "\n",
    "    qc.h(0)\n",
    "\n",
    "    qc.barrier(0)\n",
    "\n",
    "    # measure all the qubits\n",
    "    qc.measure([0], [0])\n",
    "\n",
    "    qc.draw(output=\"mpl\", style=\"iqp\")\n",
    "    return qc\n",
    "\n",
    "def eval_qc(qc):\n",
    "    # Create an Estimator object\n",
    "    sampler = Sampler(backend_sim, options=options)\n",
    "\n",
    "    # Submit the circuit to Estimator\n",
    "    job = sampler.run(qc, shots=100)\n",
    "    jobid = job.job_id()\n",
    "    retrieve_job = service.job(jobid)\n",
    "    result = retrieve_job.result()\n",
    "    return result\n",
    "\n",
    "def eval_qc_list(qc_list):\n",
    "    # Create an Estimator object\n",
    "    sampler = Sampler(backend_sim, options=options)\n",
    "\n",
    "    # Submit the circuit to Estimator\n",
    "    job = sampler.run([x[1] for x in qc_list], shots=100)\n",
    "    jobid = job.job_id()\n",
    "    retrieve_job = service.job(jobid)\n",
    "    result = retrieve_job.result()\n",
    "    return result\n",
    "\n",
    "job_ids = []\n",
    "\n",
    "qc_list = []\n",
    "\n",
    "for x in np.linspace(-1, 1, 21):\n",
    "    qc_lcl = gen_qc(x)\n",
    "    print(x)\n",
    "    qc_list.append([x, qc_lcl])\n",
    "\n",
    "res = eval_qc_list(qc_list)"
   ]
  },
  {
   "cell_type": "markdown",
   "id": "1077cb1b",
   "metadata": {},
   "source": [
    "We now compute the values we are interested in. Remember, we are attempting to use QSP to find an accurate approximation of $\\sin$. As a result, we will be determining the deviation from $\\sin$ from the polynomial that we generated using the QSP protocol. If we have done this correctly, then the lines should match..."
   ]
  },
  {
   "cell_type": "code",
   "execution_count": 136,
   "id": "ed39a079-84f2-460e-85cd-e2959376cbe7",
   "metadata": {
    "tags": []
   },
   "outputs": [
    {
     "name": "stdout",
     "output_type": "stream",
     "text": [
      "For x = -1.0, computed y = 0.8944271909999159, actual sin(2x) = -0.9092974268256817\n",
      "For x = -0.9, computed y = 0.9848857801796105, actual sin(2x) = -0.9738476308781951\n",
      "For x = -0.8, computed y = 1.0, actual sin(2x) = -0.9995736030415051\n",
      "For x = -0.7, computed y = 0.9643650760992956, actual sin(2x) = -0.9854497299884601\n",
      "For x = -0.6, computed y = 0.9273618495495703, actual sin(2x) = -0.9320390859672263\n",
      "For x = -0.5, computed y = 0.8185352771872451, actual sin(2x) = -0.8414709848078965\n",
      "For x = -0.3999999999999999, computed y = 0.714142842854285, actual sin(2x) = -0.7173560908995227\n",
      "For x = -0.29999999999999993, computed y = 0.5477225575051661, actual sin(2x) = -0.5646424733950353\n",
      "For x = -0.19999999999999996, computed y = 0.33166247903553997, actual sin(2x) = -0.3894183423086504\n",
      "For x = -0.09999999999999998, computed y = 0.1414213562373095, actual sin(2x) = -0.19866933079506116\n",
      "For x = 0.0, computed y = 0.0, actual sin(2x) = 0.0\n",
      "For x = 0.10000000000000009, computed y = 0.17320508075688773, actual sin(2x) = 0.19866933079506138\n",
      "For x = 0.20000000000000018, computed y = 0.31622776601683794, actual sin(2x) = 0.3894183423086508\n",
      "For x = 0.30000000000000004, computed y = 0.4472135954999579, actual sin(2x) = 0.5646424733950355\n",
      "For x = 0.40000000000000013, computed y = 0.7211102550927979, actual sin(2x) = 0.7173560908995229\n",
      "For x = 0.5, computed y = 0.8306623862918074, actual sin(2x) = 0.8414709848078965\n",
      "For x = 0.6000000000000001, computed y = 0.9327379053088815, actual sin(2x) = 0.9320390859672264\n",
      "For x = 0.7000000000000002, computed y = 0.9797958971132712, actual sin(2x) = 0.9854497299884603\n",
      "For x = 0.8, computed y = 1.0, actual sin(2x) = 0.9995736030415051\n",
      "For x = 0.9000000000000001, computed y = 0.9643650760992956, actual sin(2x) = 0.9738476308781951\n",
      "For x = 1.0, computed y = 0.8944271909999159, actual sin(2x) = 0.9092974268256817\n"
     ]
    }
   ],
   "source": [
    "x = [u[0] for u in qc_list]\n",
    "y1 = []\n",
    "y2 = []\n",
    "i = 0\n",
    "for q in res.quasi_dists:\n",
    "    zero_val = q\n",
    "    if 0 in zero_val:\n",
    "        zero_val = zero_val[0]\n",
    "    else:\n",
    "        zero_val = 0\n",
    "    computed_y = np.sqrt(zero_val)\n",
    "    actual_y = np.sin(2*x[i])\n",
    "    print(f\"For x = {x[i]}, computed y = {computed_y}, actual sin(2x) = {actual_y}\")\n",
    "    y1.append(computed_y)\n",
    "    y2.append(actual_y)\n",
    "    i += 1"
   ]
  },
  {
   "cell_type": "markdown",
   "id": "10a39637",
   "metadata": {},
   "source": [
    "Et voilá!"
   ]
  },
  {
   "cell_type": "code",
   "execution_count": 140,
   "id": "bfb7faed-925b-4544-80a8-814b32ddbd5d",
   "metadata": {
    "tags": []
   },
   "outputs": [
    {
     "data": {
      "image/png": "[encoded data removed]",
      "text/plain": [
       "<Figure size 640x480 with 1 Axes>"
      ]
     },
     "metadata": {},
     "output_type": "display_data"
    }
   ],
   "source": [
    "import matplotlib as mpl\n",
    "\n",
    "mpl.pyplot.plot(x, np.sign(x) * y1)\n",
    "mpl.pyplot.plot(x, y2)\n",
    "mpl.pyplot.title(\"sin(2x) with QSP, n = 4, sim count = 100, sign-adjusted\")\n",
    "mpl.pyplot.xlabel(\"x\")\n",
    "mpl.pyplot.ylabel(\"sin(2x)\")\n",
    "mpl.pyplot.savefig(\"QSP_sim_4.png\")"
   ]
  },
  {
   "cell_type": "code",
   "execution_count": 139,
   "id": "8a0d6cf3-f870-4431-95f2-44808723cd9b",
   "metadata": {},
   "outputs": [],
   "source": [
    "o = {\"x\": x, \"y_sim\": y1, \"y_actual\": y2}\n",
    "of = open(\"QSP_sim_4.json\", \"w\")\n",
    "json.dump(o, of)\n",
    "of.close()"
   ]
  },
  {
   "cell_type": "code",
   "execution_count": 105,
   "id": "59d5de4a-bcd5-4a52-a0cf-81308b86521b",
   "metadata": {
    "tags": []
   },
   "outputs": [
    {
     "name": "stdout",
     "output_type": "stream",
     "text": [
      "[[-1.0, SamplerResult(quasi_dists=[{0: 0.8, 1: 0.2}], metadata=[{'shots': 100, 'circuit_metadata': {}, 'readout_mitigation_overhead': 1.0, 'readout_mitigation_time': 0.011691818945109844, 'warning': 'Optimization level clipped from 3 to 1'}])], [-0.9, SamplerResult(quasi_dists=[{0: 0.92, 1: 0.08}], metadata=[{'shots': 100, 'circuit_metadata': {}, 'readout_mitigation_overhead': 1.0, 'readout_mitigation_time': 0.02065568696707487, 'warning': 'Optimization level clipped from 3 to 1'}])], [-0.8, SamplerResult(quasi_dists=[{0: 1.0}], metadata=[{'shots': 100, 'circuit_metadata': {}, 'readout_mitigation_overhead': 1.0, 'readout_mitigation_time': 0.006950044073164463, 'warning': 'Optimization level clipped from 3 to 1'}])], [-0.7, SamplerResult(quasi_dists=[{0: 0.94, 1: 0.06}], metadata=[{'shots': 100, 'circuit_metadata': {}, 'readout_mitigation_overhead': 1.0, 'readout_mitigation_time': 0.02080469485372305, 'warning': 'Optimization level clipped from 3 to 1'}])], [-0.6, SamplerResult(quasi_dists=[{0: 0.84, 1: 0.16}], metadata=[{'shots': 100, 'circuit_metadata': {}, 'readout_mitigation_overhead': 1.0, 'readout_mitigation_time': 0.023595498874783516, 'warning': 'Optimization level clipped from 3 to 1'}])], [-0.5, SamplerResult(quasi_dists=[{0: 0.72, 1: 0.28}], metadata=[{'shots': 100, 'circuit_metadata': {}, 'readout_mitigation_overhead': 1.0, 'readout_mitigation_time': 0.016423520632088184, 'warning': 'Optimization level clipped from 3 to 1'}])], [-0.3999999999999999, SamplerResult(quasi_dists=[{0: 0.46, 1: 0.54}], metadata=[{'shots': 100, 'circuit_metadata': {}, 'readout_mitigation_overhead': 1.0, 'readout_mitigation_time': 0.008462424390017986, 'warning': 'Optimization level clipped from 3 to 1'}])], [-0.29999999999999993, SamplerResult(quasi_dists=[{0: 0.26, 1: 0.74}], metadata=[{'shots': 100, 'circuit_metadata': {}, 'readout_mitigation_overhead': 1.0, 'readout_mitigation_time': 0.02964788768440485, 'warning': 'Optimization level clipped from 3 to 1'}])], [-0.19999999999999996, SamplerResult(quasi_dists=[{0: 0.1, 1: 0.9}], metadata=[{'shots': 100, 'circuit_metadata': {}, 'readout_mitigation_overhead': 1.0, 'readout_mitigation_time': 0.023218448273837566, 'warning': 'Optimization level clipped from 3 to 1'}])], [-0.09999999999999998, SamplerResult(quasi_dists=[{0: 0.03, 1: 0.97}], metadata=[{'shots': 100, 'circuit_metadata': {}, 'readout_mitigation_overhead': 1.0, 'readout_mitigation_time': 0.026075436733663082, 'warning': 'Optimization level clipped from 3 to 1'}])], [0.0, SamplerResult(quasi_dists=[{1: 1.0}], metadata=[{'shots': 100, 'circuit_metadata': {}, 'readout_mitigation_overhead': 1.0, 'readout_mitigation_time': 0.006409294903278351, 'warning': 'Optimization level clipped from 3 to 1'}])], [0.10000000000000009, SamplerResult(quasi_dists=[{0: 0.05, 1: 0.95}], metadata=[{'shots': 100, 'circuit_metadata': {}, 'readout_mitigation_overhead': 1.0, 'readout_mitigation_time': 0.01990762073546648, 'warning': 'Optimization level clipped from 3 to 1'}])], [0.20000000000000018, SamplerResult(quasi_dists=[{0: 0.07, 1: 0.93}], metadata=[{'shots': 100, 'circuit_metadata': {}, 'readout_mitigation_overhead': 1.0, 'readout_mitigation_time': 0.02317704539746046, 'warning': 'Optimization level clipped from 3 to 1'}])], [0.30000000000000004, SamplerResult(quasi_dists=[{0: 0.38, 1: 0.62}], metadata=[{'shots': 100, 'circuit_metadata': {}, 'readout_mitigation_overhead': 1.0, 'readout_mitigation_time': 0.021129446104168892, 'warning': 'Optimization level clipped from 3 to 1'}])], [0.40000000000000013, SamplerResult(quasi_dists=[{0: 0.48, 1: 0.52}], metadata=[{'shots': 100, 'circuit_metadata': {}, 'readout_mitigation_overhead': 1.0, 'readout_mitigation_time': 0.021849132142961025, 'warning': 'Optimization level clipped from 3 to 1'}])], [0.5, SamplerResult(quasi_dists=[{0: 0.7, 1: 0.3}], metadata=[{'shots': 100, 'circuit_metadata': {}, 'readout_mitigation_overhead': 1.0, 'readout_mitigation_time': 0.020084967836737633, 'warning': 'Optimization level clipped from 3 to 1'}])], [0.6000000000000001, SamplerResult(quasi_dists=[{0: 0.82, 1: 0.18}], metadata=[{'shots': 100, 'circuit_metadata': {}, 'readout_mitigation_overhead': 1.0, 'readout_mitigation_time': 0.03505833074450493, 'warning': 'Optimization level clipped from 3 to 1'}])], [0.7000000000000002, SamplerResult(quasi_dists=[{0: 0.94, 1: 0.06}], metadata=[{'shots': 100, 'circuit_metadata': {}, 'readout_mitigation_overhead': 1.0, 'readout_mitigation_time': 0.018341176211833954, 'warning': 'Optimization level clipped from 3 to 1'}])], [0.8, SamplerResult(quasi_dists=[{0: 1.0}], metadata=[{'shots': 100, 'circuit_metadata': {}, 'readout_mitigation_overhead': 1.0, 'readout_mitigation_time': 0.021165326237678528, 'warning': 'Optimization level clipped from 3 to 1'}])], [0.9000000000000001, SamplerResult(quasi_dists=[{0: 0.97, 1: 0.03}], metadata=[{'shots': 100, 'circuit_metadata': {}, 'readout_mitigation_overhead': 1.0, 'readout_mitigation_time': 0.02594634611159563, 'warning': 'Optimization level clipped from 3 to 1'}])], [1.0, SamplerResult(quasi_dists=[{0: 0.82, 1: 0.18}], metadata=[{'shots': 100, 'circuit_metadata': {}, 'readout_mitigation_overhead': 1.0, 'readout_mitigation_time': 0.021374083124101162, 'warning': 'Optimization level clipped from 3 to 1'}])]]\n"
     ]
    }
   ],
   "source": [
    "print(job_ids)"
   ]
  },
  {
   "cell_type": "markdown",
   "id": "60d8dd6d",
   "metadata": {},
   "source": [
    "We hope that this has been an illustrative journey to show you how to implement a sample QSP protocol on an actual quantum computer. Armed with this information, you can create your own QSPs and develop your own algorithms. (To learn how to use QSPs to assemble more interesting quantum algorithms that have quantum advantage, stay tuned for the next notebook...)\n",
    "\n",
    "QSPs are a powerful concept in quantum information science that form the foundation of the major developments to come in the future. We invite you to work with these and change tomorrow, today.\n",
    "\n",
    "____________________________________________________________________________\n",
    "\n",
    "Work Copyright: Frank Wong, Pranet Sharma, Brennan Lagasse, George Holm, Diya Naik, © 2024 Yale University"
   ]
  }
 ],
 "metadata": {
  "kernelspec": {
   "display_name": "Python 3 (ipykernel)",
   "language": "python",
   "name": "python3"
  },
  "language_info": {
   "codemirror_mode": {
    "name": "ipython",
    "version": 3
   },
   "file_extension": ".py",
   "mimetype": "text/x-python",
   "name": "python",
   "nbconvert_exporter": "python",
   "pygments_lexer": "ipython3",
   "version": "3.10.11"
  }
 },
 "nbformat": 4,
 "nbformat_minor": 5
}
